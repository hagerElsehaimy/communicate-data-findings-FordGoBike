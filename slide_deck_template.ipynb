{
 "cells": [
  {
   "cell_type": "markdown",
   "metadata": {
    "slideshow": {
     "slide_type": "slide"
    }
   },
   "source": [
    "# FordGobike\n",
    "## by (Hager Mohamed)"
   ]
  },
  {
   "cell_type": "markdown",
   "metadata": {
    "slideshow": {
     "slide_type": "slide"
    }
   },
   "source": [
    "## Investigation Overview\n",
    "\n",
    "> In this investigation, I wanted to look at to the usage, I focused on some main features such as time, gender, duration, age and user type to analyze and understand the usage of FordGobike project and to know what's stregnth and weakness of this project\n",
    "\n",
    "\n",
    "## Dataset Overview\n",
    "\n",
    "> This document explains a dataset containing the trip data of the ford gobike approximately 183,412 record accros Feb 2019."
   ]
  },
  {
   "cell_type": "code",
   "execution_count": 2,
   "metadata": {
    "slideshow": {
     "slide_type": "skip"
    }
   },
   "outputs": [],
   "source": [
    "# import all packages and set plots to be embedded inline\n",
    "import numpy as np\n",
    "import pandas as pd\n",
    "import matplotlib.pyplot as plt\n",
    "import seaborn as sb\n",
    "\n",
    "%matplotlib inline\n",
    "\n",
    "# suppress warnings from final output\n",
    "import warnings\n",
    "warnings.simplefilter(\"ignore\")"
   ]
  },
  {
   "cell_type": "code",
   "execution_count": 6,
   "metadata": {
    "slideshow": {
     "slide_type": "skip"
    }
   },
   "outputs": [],
   "source": [
    "# load in the dataset into a pandas dataframe\n",
    "new_df = pd.read_csv('cleaned_ford.csv')"
   ]
  },
  {
   "cell_type": "markdown",
   "metadata": {
    "slideshow": {
     "slide_type": "slide"
    }
   },
   "source": [
    "## (Visualization 1)\n",
    "\n",
    "> In this data we have 2 different types of users\n",
    "1. customer\n",
    "2. subscriber\n",
    "this visualization shows the percentage of each type usage "
   ]
  },
  {
   "cell_type": "code",
   "execution_count": 8,
   "metadata": {
    "slideshow": {
     "slide_type": "subslide"
    }
   },
   "outputs": [
    {
     "data": {
      "image/png": "[encoded data removed]",
      "text/plain": [
       "<Figure size 576x576 with 1 Axes>"
      ]
     },
     "metadata": {},
     "output_type": "display_data"
    }
   ],
   "source": [
    "colors = [\"#9DA993\", \"#E4B4B4\"]\n",
    "plt.figure(figsize=(8,8))\n",
    "plt.pie(new_df.user_type.value_counts(), labels=new_df.user_type.value_counts().keys(), colors=colors,autopct='%1.0f%%')\n",
    "plt.title(\"Percentage of Bike Rides for user type\", fontsize=15)\n",
    "\n",
    "plt.show()"
   ]
  },
  {
   "cell_type": "markdown",
   "metadata": {
    "collapsed": true,
    "slideshow": {
     "slide_type": "slide"
    }
   },
   "source": [
    "## (Visualization 2)\n",
    "\n",
    "> You should have at least three visualizations in your presentation,\n",
    "but feel free to add more if you'd like!"
   ]
  },
  {
   "cell_type": "code",
   "execution_count": null,
   "metadata": {
    "slideshow": {
     "slide_type": "subslide"
    }
   },
   "outputs": [],
   "source": []
  },
  {
   "cell_type": "markdown",
   "metadata": {
    "slideshow": {
     "slide_type": "slide"
    }
   },
   "source": [
    "## (Visualization 3)\n",
    "\n"
   ]
  },
  {
   "cell_type": "code",
   "execution_count": null,
   "metadata": {
    "slideshow": {
     "slide_type": "subslide"
    }
   },
   "outputs": [],
   "source": []
  },
  {
   "cell_type": "markdown",
   "metadata": {
    "slideshow": {
     "slide_type": "notes"
    }
   },
   "source": [
    "> Once you're ready to finish your presentation, check your output by using\n",
    "nbconvert to export the notebook and set up a server for the slides. From the\n",
    "terminal or command line, use the following expression:\n",
    "> > `jupyter nbconvert <file_name>.ipynb --to slides --post serve --template output_toggle`\n",
    "\n",
    "> This should open a tab in your web browser where you can scroll through your\n",
    "presentation. Sub-slides can be accessed by pressing 'down' when viewing its parent\n",
    "slide. Make sure you remove all of the quote-formatted guide notes like this one\n",
    "before you finish your presentation!"
   ]
  },
  {
   "cell_type": "code",
   "execution_count": null,
   "metadata": {},
   "outputs": [],
   "source": []
  }
 ],
 "metadata": {
  "celltoolbar": "Slideshow",
  "kernelspec": {
   "display_name": "Python 3",
   "language": "python",
   "name": "python3"
  },
  "language_info": {
   "codemirror_mode": {
    "name": "ipython",
    "version": 3
   },
   "file_extension": ".py",
   "mimetype": "text/x-python",
   "name": "python",
   "nbconvert_exporter": "python",
   "pygments_lexer": "ipython3",
   "version": "3.8.3"
  }
 },
 "nbformat": 4,
 "nbformat_minor": 2
}
